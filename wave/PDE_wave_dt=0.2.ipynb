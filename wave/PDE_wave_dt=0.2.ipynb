{
 "cells": [
  {
   "cell_type": "code",
   "execution_count": 90,
   "metadata": {},
   "outputs": [],
   "source": [
    "import matplotlib\n",
    "del matplotlib.font_manager.weight_dict['roman']\n",
    "matplotlib.font_manager._rebuild()"
   ]
  },
  {
   "cell_type": "code",
   "execution_count": 126,
   "metadata": {},
   "outputs": [],
   "source": [
    "import numpy as np\n",
    "\n",
    "L = 10\n",
    "dx = 0.1\n",
    "dt = 0.2\n",
    "tmin = 0.0 \n",
    "tmax = 5.0 #simulate time\n",
    "\n",
    "#BCs\n",
    "xmin = 0.0\n",
    "xmax = L\n",
    "\n",
    "c = 1.0 #propagation speed\n",
    "C = (c*dt/dx)**2 #Courant constant\n",
    "\n",
    "nx = int((xmax-xmin)/dx) + 1\n",
    "nt = int((tmax-tmin)/dt) + 2\n",
    "\n",
    "dX = np.arange(xmin, xmax+dx, dx)\n",
    "u = np.zeros((nt,nx))\n",
    "\n",
    "#ICs\n",
    "u_0 = np.exp(-((dX-5)**2))\n",
    "u_1 = np.zeros(nx)\n",
    "u[0] = u_0\n",
    "u[1] = u[0] + dt * u_1\n",
    "\n",
    "#simulation\n",
    "for t in range(1,nt-1):\n",
    "    for x in range(1,nx-1):\n",
    "        u[t+1,x] = 2*(1-C)*u[t,x]-u[t-1,x]+C*(u[t,x-1]+u[t,x+1])"
   ]
  },
  {
   "cell_type": "code",
   "execution_count": 133,
   "metadata": {},
   "outputs": [
    {
     "data": {
      "image/png": "[encoded data removed]",
      "text/plain": [
       "<Figure size 432x288 with 1 Axes>"
      ]
     },
     "metadata": {
      "needs_background": "light"
     },
     "output_type": "display_data"
    }
   ],
   "source": [
    "import matplotlib.pyplot as plt\n",
    "\n",
    "#Draw\n",
    "# plot\n",
    "fig = plt.figure()\n",
    "fig_1 = fig.add_subplot(111)\n",
    "fig_2 = fig.add_subplot(111)\n",
    "fig_3 = fig.add_subplot(111)\n",
    "fig_1.plot(dX,u[0], label=r\"$t = 0$\")\n",
    "fig_2.plot(dX,u[10], label=r\"$t = 2.0$\")\n",
    "fig_3.plot(dX,u[20], label=r\"$t = 4.0$\")\n",
    "\n",
    "plt.rcParams['font.family'] = 'Times New Roman' # font familyの設定\n",
    "plt.rcParams['mathtext.fontset'] = 'stix' # math fontの設定\n",
    "plt.rcParams[\"font.size\"] = 20# 全体のフォントサイズが変更されます。\n",
    "plt.rcParams['xtick.labelsize'] = 12 # 軸だけ変更されます。\n",
    "plt.rcParams['ytick.labelsize'] = 12 # 軸だけ変更されます\n",
    "plt.rcParams['xtick.direction'] = 'in' # x axis in\n",
    "plt.rcParams['ytick.direction'] = 'in' # y axis in \n",
    "plt.rcParams['axes.linewidth'] = 1.0 # axis line width\n",
    "plt.rcParams['axes.grid'] = False # make grid\n",
    "plt.rcParams[\"legend.fancybox\"] = False # 丸角\n",
    "plt.rcParams[\"legend.framealpha\"] = 0 # 透明度の指定、0で塗りつぶしなし\n",
    "plt.rcParams[\"legend.handlelength\"] = 1 # 凡例の線の長さを調節\n",
    "plt.rcParams[\"legend.labelspacing\"] = 0.2 # 垂直方向（縦）の距離の各凡例の距離\n",
    "plt.rcParams[\"legend.handletextpad\"] = 0.2 # 凡例の線と文字の距離の長さ\n",
    "plt.rcParams[\"legend.markerscale\"] = 2 # 点がある場合のmarker scale\n",
    "fig_1.set_xlabel(r\"$x$\")\n",
    "fig_1.set_ylabel(r\"$u(x,t)$\")\n",
    "fig_1.legend(loc=0)\n",
    "plt.show()\n",
    "\n",
    "# save\n",
    "fig.savefig('wave_c-1.eps', bbox_inches=\"tight\", pad_inches=0.05) "
   ]
  }
 ],
 "metadata": {
  "kernelspec": {
   "display_name": "Python 3",
   "language": "python",
   "name": "python3"
  },
  "language_info": {
   "codemirror_mode": {
    "name": "ipython",
    "version": 3
   },
   "file_extension": ".py",
   "mimetype": "text/x-python",
   "name": "python",
   "nbconvert_exporter": "python",
   "pygments_lexer": "ipython3",
   "version": "3.7.3"
  }
 },
 "nbformat": 4,
 "nbformat_minor": 2
}
